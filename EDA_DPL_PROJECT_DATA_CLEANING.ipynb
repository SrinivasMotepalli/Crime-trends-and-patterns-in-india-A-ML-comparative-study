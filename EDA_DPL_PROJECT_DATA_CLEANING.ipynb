{
  "nbformat": 4,
  "nbformat_minor": 0,
  "metadata": {
    "colab": {
      "provenance": []
    },
    "kernelspec": {
      "name": "python3",
      "display_name": "Python 3"
    },
    "language_info": {
      "name": "python"
    }
  },
  "cells": [
    {
      "cell_type": "code",
      "execution_count": 3,
      "metadata": {
        "id": "6dlxbpMOcizk"
      },
      "outputs": [],
      "source": [
        "import pandas as pd\n",
        "import numpy as np"
      ]
    },
    {
      "cell_type": "code",
      "source": [
        "df=pd.DataFrame(pd.read_csv('/content/EDA_DPL_DATASET.csv'))"
      ],
      "metadata": {
        "id": "hu9k06K-d8qE"
      },
      "execution_count": 4,
      "outputs": []
    },
    {
      "cell_type": "code",
      "source": [
        "df.isnull().sum()"
      ],
      "metadata": {
        "colab": {
          "base_uri": "https://localhost:8080/"
        },
        "id": "LtoMpin6gAr2",
        "outputId": "07c96461-b14d-48fc-d869-8f1c6d0275b6"
      },
      "execution_count": 6,
      "outputs": [
        {
          "output_type": "execute_result",
          "data": {
            "text/plain": [
              "Area_Name                       78\n",
              "Year                            48\n",
              "Group_Name                      90\n",
              "Acquitted                      112\n",
              "cases_Comp_or_Withdrawn         90\n",
              "Arrested                        42\n",
              "Chargesheeted                   79\n",
              "Convicted                       51\n",
              "In_Custody/Bail_Beginning       96\n",
              "In_Custody/Bail_Beginning.1     98\n",
              "In_Custody/Bail_End             52\n",
              " Released_Before_Trial          55\n",
              "Trial_Completed                111\n",
              "Under_Trial_Beginning          105\n",
              "Total_Under_Trial               38\n",
              "dtype: int64"
            ]
          },
          "metadata": {},
          "execution_count": 6
        }
      ]
    },
    {
      "cell_type": "code",
      "source": [
        "df.dropna(subset=['Group_Name', 'Area_Name'], inplace=True)"
      ],
      "metadata": {
        "id": "8dAj_hKNgFFG"
      },
      "execution_count": 7,
      "outputs": []
    },
    {
      "cell_type": "code",
      "source": [
        "df.isnull().sum()"
      ],
      "metadata": {
        "colab": {
          "base_uri": "https://localhost:8080/"
        },
        "id": "CZ4uveOCgyRO",
        "outputId": "8037f4f6-0679-473b-e4fc-30973cb90678"
      },
      "execution_count": 8,
      "outputs": [
        {
          "output_type": "execute_result",
          "data": {
            "text/plain": [
              "Area_Name                        0\n",
              "Year                            44\n",
              "Group_Name                       0\n",
              "Acquitted                      109\n",
              "cases_Comp_or_Withdrawn         86\n",
              "Arrested                        38\n",
              "Chargesheeted                   76\n",
              "Convicted                       49\n",
              "In_Custody/Bail_Beginning       94\n",
              "In_Custody/Bail_Beginning.1     97\n",
              "In_Custody/Bail_End             49\n",
              " Released_Before_Trial          53\n",
              "Trial_Completed                108\n",
              "Under_Trial_Beginning           97\n",
              "Total_Under_Trial               36\n",
              "dtype: int64"
            ]
          },
          "metadata": {},
          "execution_count": 8
        }
      ]
    },
    {
      "cell_type": "code",
      "source": [
        "from sklearn.impute import KNNImputer\n",
        "\n",
        "df.dropna(subset=['Group_Name', 'Area_Name'], inplace=True)\n",
        "numerical_columns = df.select_dtypes(include=np.number).columns\n",
        "\n",
        "imputer = KNNImputer(n_neighbors=3)\n",
        "df[numerical_columns] = imputer.fit_transform(df[numerical_columns])"
      ],
      "metadata": {
        "id": "TN_dAfi4hFRu"
      },
      "execution_count": 9,
      "outputs": []
    },
    {
      "cell_type": "code",
      "source": [
        "df.isnull().sum()"
      ],
      "metadata": {
        "colab": {
          "base_uri": "https://localhost:8080/"
        },
        "id": "amuUhlvWhUGE",
        "outputId": "7ccde3ee-f42e-42d3-81b6-c2d95a47f77e"
      },
      "execution_count": 10,
      "outputs": [
        {
          "output_type": "execute_result",
          "data": {
            "text/plain": [
              "Area_Name                      0\n",
              "Year                           0\n",
              "Group_Name                     0\n",
              "Acquitted                      0\n",
              "cases_Comp_or_Withdrawn        0\n",
              "Arrested                       0\n",
              "Chargesheeted                  0\n",
              "Convicted                      0\n",
              "In_Custody/Bail_Beginning      0\n",
              "In_Custody/Bail_Beginning.1    0\n",
              "In_Custody/Bail_End            0\n",
              " Released_Before_Trial         0\n",
              "Trial_Completed                0\n",
              "Under_Trial_Beginning          0\n",
              "Total_Under_Trial              0\n",
              "dtype: int64"
            ]
          },
          "metadata": {},
          "execution_count": 10
        }
      ]
    },
    {
      "cell_type": "code",
      "source": [
        "columns_to_detect_outliers = ['Acquitted', 'cases_Comp_or_Withdrawn', 'Arrested', 'Chargesheeted', 'Convicted',\n",
        "                               'In_Custody/Bail_Beginning', 'In_Custody/Bail_Beginning.1', 'In_Custody/Bail_End', ' Released_Before_Trial',\n",
        "                                'Trial_Completed', 'Under_Trial_Beginning', 'Total_Under_Trial']\n",
        "\n",
        "# Creating a dictionary to store the count of outliers for each column\n",
        "outliers_count = {}\n",
        "\n",
        "# Loop through columns and detect outliers using IQR\n",
        "for column in columns_to_detect_outliers:\n",
        "    Q1 = df[column].quantile(0.25)\n",
        "    Q3 = df[column].quantile(0.75)\n",
        "    IQR = Q3 - Q1\n",
        "    lower_bound = Q1 - 1.5 * IQR\n",
        "    upper_bound = Q3 + 1.5 * IQR\n",
        "\n",
        "    # Count outliers for the column\n",
        "    outliers = df[(df[column] < lower_bound) | (df[column] > upper_bound)]\n",
        "    outliers_count[column] = len(outliers)\n",
        "\n",
        "# Print the count of outliers for each column\n",
        "for column, count in outliers_count.items():\n",
        "    print(f\"{column}: {count} outliers\")\n"
      ],
      "metadata": {
        "colab": {
          "base_uri": "https://localhost:8080/"
        },
        "id": "Oz-iZmh1oJaN",
        "outputId": "1a248752-95f6-4dff-f10e-9f9e73ebd35d"
      },
      "execution_count": 12,
      "outputs": [
        {
          "output_type": "stream",
          "name": "stdout",
          "text": [
            "Acquitted: 130 outliers\n",
            "cases_Comp_or_Withdrawn: 709 outliers\n",
            "Arrested: 705 outliers\n",
            "Chargesheeted: 589 outliers\n",
            "Convicted: 588 outliers\n",
            "In_Custody/Bail_Beginning: 673 outliers\n",
            "In_Custody/Bail_Beginning.1: 646 outliers\n",
            "In_Custody/Bail_End: 660 outliers\n",
            " Released_Before_Trial: 650 outliers\n",
            "Trial_Completed: 687 outliers\n",
            "Under_Trial_Beginning: 646 outliers\n",
            "Total_Under_Trial: 636 outliers\n"
          ]
        }
      ]
    },
    {
      "cell_type": "code",
      "source": [
        "import pandas as pd\n",
        "\n",
        "# Assuming 'df' is your DataFrame with scaled values\n",
        "\n",
        "# Selecting the columns for outlier detection\n",
        "columns_to_detect_outliers = ['Acquitted', 'cases_Comp_or_Withdrawn', 'Arrested', 'Chargesheeted', 'Convicted',\n",
        "                               'In_Custody/Bail_Beginning', 'In_Custody/Bail_Beginning.1', 'In_Custody/Bail_End',\n",
        "                               ' Released_Before_Trial', 'Trial_Completed', 'Under_Trial_Beginning', 'Total_Under_Trial']\n",
        "\n",
        "# Loop through columns and replace outliers with the median in the original DataFrame\n",
        "for column in columns_to_detect_outliers:\n",
        "    Q1 = df[column].quantile(0.25)\n",
        "    Q3 = df[column].quantile(0.75)\n",
        "    IQR = Q3 - Q1\n",
        "    lower_bound = Q1 - 1.5 * IQR\n",
        "    upper_bound = Q3 + 1.5 * IQR\n",
        "\n",
        "    # Replace outliers with the median value in the original DataFrame\n",
        "    df[column] = df[column].apply(lambda x: df[column].median() if (x < lower_bound) or (x > upper_bound) else x)\n",
        "\n",
        "# Now, let's check again for outliers\n",
        "outliers_count_after_replace = {}\n",
        "\n",
        "# Loop through columns and detect outliers using IQR\n",
        "for column in columns_to_detect_outliers:\n",
        "    Q1 = df[column].quantile(0.25)\n",
        "    Q3 = df[column].quantile(0.75)\n",
        "    IQR = Q3 - Q1\n",
        "    lower_bound = Q1 - 1.5 * IQR\n",
        "    upper_bound = Q3 + 1.5 * IQR\n",
        "\n",
        "    # Count outliers for the column after replacement\n",
        "    outliers_after_replace = df[(df[column] < lower_bound) | (df[column] > upper_bound)]\n",
        "    outliers_count_after_replace[column] = len(outliers_after_replace)\n",
        "\n",
        "# Print the count of outliers for each column after replacement\n",
        "for column, count in outliers_count_after_replace.items():\n",
        "    print(f\"{column}: {count} outliers\")\n",
        "\n"
      ],
      "metadata": {
        "colab": {
          "base_uri": "https://localhost:8080/"
        },
        "id": "DXO58JZVpE6j",
        "outputId": "74656b72-2623-4edb-c0a4-35f6cee7300e"
      },
      "execution_count": 19,
      "outputs": [
        {
          "output_type": "stream",
          "name": "stdout",
          "text": [
            "Acquitted: 0 outliers\n",
            "cases_Comp_or_Withdrawn: 0 outliers\n",
            "Arrested: 0 outliers\n",
            "Chargesheeted: 0 outliers\n",
            "Convicted: 0 outliers\n",
            "In_Custody/Bail_Beginning: 0 outliers\n",
            "In_Custody/Bail_Beginning.1: 0 outliers\n",
            "In_Custody/Bail_End: 0 outliers\n",
            " Released_Before_Trial: 0 outliers\n",
            "Trial_Completed: 0 outliers\n",
            "Under_Trial_Beginning: 0 outliers\n",
            "Total_Under_Trial: 0 outliers\n"
          ]
        }
      ]
    },
    {
      "cell_type": "code",
      "source": [
        "df.to_csv('/content/EDA.csv', index=False)"
      ],
      "metadata": {
        "id": "yHN2KGU0pzUK"
      },
      "execution_count": 20,
      "outputs": []
    }
  ]
}